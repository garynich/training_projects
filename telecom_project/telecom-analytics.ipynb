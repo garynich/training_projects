{
 "cells": [
  {
   "cell_type": "markdown",
   "metadata": {},
   "source": [
    "# Шаг 1. Загрузка и предобработка данных\n",
    "\n",
    "Выполняем загрузку всех данных и выполняем предобработку."
   ]
  },
  {
   "cell_type": "markdown",
   "metadata": {},
   "source": [
    "Проверяем данные в файле data_calls:"
   ]
  },
  {
   "cell_type": "markdown",
   "metadata": {},
   "source": [
    "Выполняем замену данных в столбце call_date на формат данных:"
   ]
  },
  {
   "cell_type": "code",
   "execution_count": 1,
   "metadata": {},
   "outputs": [
    {
     "name": "stdout",
     "output_type": "stream",
     "text": [
      "Пропущенных значений в столбце id  =  0\n",
      "Пропущенных значений в столбце call_date  =  0\n",
      "Пропущенных значений в столбце duration  =  0\n",
      "Пропущенных значений в столбце user_id  =  0\n",
      "Пропущенных значений в столбце year  =  0\n",
      "Пропущенных значений в столбце month  =  0\n",
      "Пропущенных значений в столбце day  =  0\n",
      "\n",
      "<class 'pandas.core.frame.DataFrame'>\n",
      "RangeIndex: 202607 entries, 0 to 202606\n",
      "Data columns (total 7 columns):\n",
      "id           202607 non-null object\n",
      "call_date    202607 non-null datetime64[ns]\n",
      "duration     202607 non-null float64\n",
      "user_id      202607 non-null int64\n",
      "year         202607 non-null int64\n",
      "month        202607 non-null int64\n",
      "day          202607 non-null int64\n",
      "dtypes: datetime64[ns](1), float64(1), int64(4), object(1)\n",
      "memory usage: 10.8+ MB\n"
     ]
    }
   ],
   "source": [
    "import pandas as pd\n",
    "import numpy as np\n",
    "\n",
    "data_calls = pd.read_csv('/Users/garynich/Documents/1. Проекты.Готовые/2. Telecom аналитика/stat_data_calls.csv')\n",
    "\n",
    "data_calls['user_id'] = pd.to_numeric(data_calls['user_id'], errors = 'ignore').astype(int)\n",
    "\n",
    "data_calls['call_date'] = pd.to_datetime(data_calls['call_date'], format = '%Y-%m-%dT')\n",
    "data_calls['year'] = pd.DatetimeIndex(data_calls['call_date']).year\n",
    "data_calls['month'] = pd.DatetimeIndex(data_calls['call_date']).month\n",
    "data_calls['day'] = pd.DatetimeIndex(data_calls['call_date']).day\n",
    "\n",
    "for i in data_calls.columns:\n",
    "    print('Пропущенных значений в столбце', i, ' = ', data_calls[i].isnull().sum())\n",
    "    \n",
    "print()\n",
    "\n",
    "data_calls.info()"
   ]
  },
  {
   "cell_type": "code",
   "execution_count": 2,
   "metadata": {},
   "outputs": [
    {
     "data": {
      "text/html": [
       "<div>\n",
       "<style scoped>\n",
       "    .dataframe tbody tr th:only-of-type {\n",
       "        vertical-align: middle;\n",
       "    }\n",
       "\n",
       "    .dataframe tbody tr th {\n",
       "        vertical-align: top;\n",
       "    }\n",
       "\n",
       "    .dataframe thead th {\n",
       "        text-align: right;\n",
       "    }\n",
       "</style>\n",
       "<table border=\"1\" class=\"dataframe\">\n",
       "  <thead>\n",
       "    <tr style=\"text-align: right;\">\n",
       "      <th></th>\n",
       "      <th>id</th>\n",
       "      <th>call_date</th>\n",
       "      <th>duration</th>\n",
       "      <th>user_id</th>\n",
       "      <th>year</th>\n",
       "      <th>month</th>\n",
       "      <th>day</th>\n",
       "    </tr>\n",
       "  </thead>\n",
       "  <tbody>\n",
       "    <tr>\n",
       "      <th>0</th>\n",
       "      <td>1000_0</td>\n",
       "      <td>2018-07-25</td>\n",
       "      <td>0.00</td>\n",
       "      <td>1000</td>\n",
       "      <td>2018</td>\n",
       "      <td>7</td>\n",
       "      <td>25</td>\n",
       "    </tr>\n",
       "    <tr>\n",
       "      <th>1</th>\n",
       "      <td>1000_1</td>\n",
       "      <td>2018-08-17</td>\n",
       "      <td>0.00</td>\n",
       "      <td>1000</td>\n",
       "      <td>2018</td>\n",
       "      <td>8</td>\n",
       "      <td>17</td>\n",
       "    </tr>\n",
       "    <tr>\n",
       "      <th>2</th>\n",
       "      <td>1000_2</td>\n",
       "      <td>2018-06-11</td>\n",
       "      <td>2.85</td>\n",
       "      <td>1000</td>\n",
       "      <td>2018</td>\n",
       "      <td>6</td>\n",
       "      <td>11</td>\n",
       "    </tr>\n",
       "    <tr>\n",
       "      <th>3</th>\n",
       "      <td>1000_3</td>\n",
       "      <td>2018-09-21</td>\n",
       "      <td>13.80</td>\n",
       "      <td>1000</td>\n",
       "      <td>2018</td>\n",
       "      <td>9</td>\n",
       "      <td>21</td>\n",
       "    </tr>\n",
       "    <tr>\n",
       "      <th>4</th>\n",
       "      <td>1000_4</td>\n",
       "      <td>2018-12-15</td>\n",
       "      <td>5.18</td>\n",
       "      <td>1000</td>\n",
       "      <td>2018</td>\n",
       "      <td>12</td>\n",
       "      <td>15</td>\n",
       "    </tr>\n",
       "  </tbody>\n",
       "</table>\n",
       "</div>"
      ],
      "text/plain": [
       "       id  call_date  duration  user_id  year  month  day\n",
       "0  1000_0 2018-07-25      0.00     1000  2018      7   25\n",
       "1  1000_1 2018-08-17      0.00     1000  2018      8   17\n",
       "2  1000_2 2018-06-11      2.85     1000  2018      6   11\n",
       "3  1000_3 2018-09-21     13.80     1000  2018      9   21\n",
       "4  1000_4 2018-12-15      5.18     1000  2018     12   15"
      ]
     },
     "execution_count": 2,
     "metadata": {},
     "output_type": "execute_result"
    }
   ],
   "source": [
    "data_calls.head(5)"
   ]
  },
  {
   "cell_type": "code",
   "execution_count": 3,
   "metadata": {},
   "outputs": [
    {
     "name": "stdout",
     "output_type": "stream",
     "text": [
      "Количество пропущенных значений в столбце  id  =  0\n",
      "Количество пропущенных значений в столбце  mb_used  =  0\n",
      "Количество пропущенных значений в столбце  session_date  =  0\n",
      "Количество пропущенных значений в столбце  user_id  =  0\n",
      "Количество пропущенных значений в столбце  year  =  0\n",
      "Количество пропущенных значений в столбце  month  =  0\n",
      "Количество пропущенных значений в столбце  day  =  0\n",
      "\n",
      "<class 'pandas.core.frame.DataFrame'>\n",
      "RangeIndex: 149396 entries, 0 to 149395\n",
      "Data columns (total 7 columns):\n",
      "id              149396 non-null object\n",
      "mb_used         149396 non-null float64\n",
      "session_date    149396 non-null datetime64[ns]\n",
      "user_id         149396 non-null int64\n",
      "year            149396 non-null int64\n",
      "month           149396 non-null int64\n",
      "day             149396 non-null int64\n",
      "dtypes: datetime64[ns](1), float64(1), int64(4), object(1)\n",
      "memory usage: 8.0+ MB\n"
     ]
    }
   ],
   "source": [
    "data_internet = pd.read_csv('/Users/garynich/Documents/1. Проекты.Готовые/2. Telecom аналитика/stat_data_internet.csv')\n",
    "\n",
    "data_internet['session_date'] = pd.to_datetime(data_internet['session_date'], format = '%Y-%m-%d')\n",
    "\n",
    "data_internet['year'] = pd.DatetimeIndex(data_internet['session_date']).year\n",
    "data_internet['month'] = pd.DatetimeIndex(data_internet['session_date']).month\n",
    "data_internet['day'] = pd.DatetimeIndex(data_internet['session_date']).day\n",
    "\n",
    "\n",
    "\n",
    "\n",
    "\n",
    "\n",
    "\n",
    "for i in data_internet.columns:\n",
    "    print('Количество пропущенных значений в столбце ', i, ' = ', data_internet[i].isnull().sum())\n",
    "\n",
    "print()\n",
    "\n",
    "data_internet.info()\n",
    "\n"
   ]
  },
  {
   "cell_type": "code",
   "execution_count": 4,
   "metadata": {},
   "outputs": [
    {
     "data": {
      "text/html": [
       "<div>\n",
       "<style scoped>\n",
       "    .dataframe tbody tr th:only-of-type {\n",
       "        vertical-align: middle;\n",
       "    }\n",
       "\n",
       "    .dataframe tbody tr th {\n",
       "        vertical-align: top;\n",
       "    }\n",
       "\n",
       "    .dataframe thead th {\n",
       "        text-align: right;\n",
       "    }\n",
       "</style>\n",
       "<table border=\"1\" class=\"dataframe\">\n",
       "  <thead>\n",
       "    <tr style=\"text-align: right;\">\n",
       "      <th></th>\n",
       "      <th>id</th>\n",
       "      <th>mb_used</th>\n",
       "      <th>session_date</th>\n",
       "      <th>user_id</th>\n",
       "      <th>year</th>\n",
       "      <th>month</th>\n",
       "      <th>day</th>\n",
       "    </tr>\n",
       "  </thead>\n",
       "  <tbody>\n",
       "    <tr>\n",
       "      <th>0</th>\n",
       "      <td>1000_0</td>\n",
       "      <td>112.95</td>\n",
       "      <td>2018-11-25</td>\n",
       "      <td>1000</td>\n",
       "      <td>2018</td>\n",
       "      <td>11</td>\n",
       "      <td>25</td>\n",
       "    </tr>\n",
       "    <tr>\n",
       "      <th>1</th>\n",
       "      <td>1000_1</td>\n",
       "      <td>1052.81</td>\n",
       "      <td>2018-09-07</td>\n",
       "      <td>1000</td>\n",
       "      <td>2018</td>\n",
       "      <td>9</td>\n",
       "      <td>7</td>\n",
       "    </tr>\n",
       "    <tr>\n",
       "      <th>2</th>\n",
       "      <td>1000_2</td>\n",
       "      <td>1197.26</td>\n",
       "      <td>2018-06-25</td>\n",
       "      <td>1000</td>\n",
       "      <td>2018</td>\n",
       "      <td>6</td>\n",
       "      <td>25</td>\n",
       "    </tr>\n",
       "    <tr>\n",
       "      <th>3</th>\n",
       "      <td>1000_3</td>\n",
       "      <td>550.27</td>\n",
       "      <td>2018-08-22</td>\n",
       "      <td>1000</td>\n",
       "      <td>2018</td>\n",
       "      <td>8</td>\n",
       "      <td>22</td>\n",
       "    </tr>\n",
       "    <tr>\n",
       "      <th>4</th>\n",
       "      <td>1000_4</td>\n",
       "      <td>302.56</td>\n",
       "      <td>2018-09-24</td>\n",
       "      <td>1000</td>\n",
       "      <td>2018</td>\n",
       "      <td>9</td>\n",
       "      <td>24</td>\n",
       "    </tr>\n",
       "  </tbody>\n",
       "</table>\n",
       "</div>"
      ],
      "text/plain": [
       "       id  mb_used session_date  user_id  year  month  day\n",
       "0  1000_0   112.95   2018-11-25     1000  2018     11   25\n",
       "1  1000_1  1052.81   2018-09-07     1000  2018      9    7\n",
       "2  1000_2  1197.26   2018-06-25     1000  2018      6   25\n",
       "3  1000_3   550.27   2018-08-22     1000  2018      8   22\n",
       "4  1000_4   302.56   2018-09-24     1000  2018      9   24"
      ]
     },
     "execution_count": 4,
     "metadata": {},
     "output_type": "execute_result"
    }
   ],
   "source": [
    "data_internet.head(5)"
   ]
  },
  {
   "cell_type": "code",
   "execution_count": 5,
   "metadata": {},
   "outputs": [
    {
     "name": "stdout",
     "output_type": "stream",
     "text": [
      "Количество пропущенных значений в столбце  id  =  0\n",
      "Количество пропущенных значений в столбце  message_date  =  0\n",
      "Количество пропущенных значений в столбце  user_id  =  0\n",
      "Количество пропущенных значений в столбце  year  =  0\n",
      "Количество пропущенных значений в столбце  month  =  0\n",
      "Количество пропущенных значений в столбце  day  =  0\n",
      "\n",
      "<class 'pandas.core.frame.DataFrame'>\n",
      "RangeIndex: 123036 entries, 0 to 123035\n",
      "Data columns (total 6 columns):\n",
      "id              123036 non-null object\n",
      "message_date    123036 non-null datetime64[ns]\n",
      "user_id         123036 non-null int64\n",
      "year            123036 non-null int64\n",
      "month           123036 non-null int64\n",
      "day             123036 non-null int64\n",
      "dtypes: datetime64[ns](1), int64(4), object(1)\n",
      "memory usage: 5.6+ MB\n"
     ]
    }
   ],
   "source": [
    "data_messages = pd.read_csv('/Users/garynich/Documents/1. Проекты.Готовые/2. Telecom аналитика/stat_data_messages.csv')\n",
    "\n",
    "\n",
    "data_messages['user_id'] = pd.to_numeric(data_messages['user_id'], errors = 'ignore').astype(int)\n",
    "data_messages['message_date'] = pd.to_datetime(data_messages['message_date'], format = '%Y-%m-%d')\n",
    "\n",
    "data_messages['year'] = pd.DatetimeIndex(data_messages['message_date']).year\n",
    "data_messages['month'] = pd.DatetimeIndex(data_messages['message_date']).month\n",
    "data_messages['day'] = pd.DatetimeIndex(data_messages['message_date']).day\n",
    "\n",
    "\n",
    "for i in data_messages.columns:\n",
    "    print('Количество пропущенных значений в столбце ', i, ' = ', data_messages[i].isnull().sum())\n",
    "    \n",
    "print()\n",
    "\n",
    "data_messages.info()"
   ]
  },
  {
   "cell_type": "code",
   "execution_count": 6,
   "metadata": {},
   "outputs": [
    {
     "data": {
      "text/html": [
       "<div>\n",
       "<style scoped>\n",
       "    .dataframe tbody tr th:only-of-type {\n",
       "        vertical-align: middle;\n",
       "    }\n",
       "\n",
       "    .dataframe tbody tr th {\n",
       "        vertical-align: top;\n",
       "    }\n",
       "\n",
       "    .dataframe thead th {\n",
       "        text-align: right;\n",
       "    }\n",
       "</style>\n",
       "<table border=\"1\" class=\"dataframe\">\n",
       "  <thead>\n",
       "    <tr style=\"text-align: right;\">\n",
       "      <th></th>\n",
       "      <th>id</th>\n",
       "      <th>message_date</th>\n",
       "      <th>user_id</th>\n",
       "      <th>year</th>\n",
       "      <th>month</th>\n",
       "      <th>day</th>\n",
       "    </tr>\n",
       "  </thead>\n",
       "  <tbody>\n",
       "    <tr>\n",
       "      <th>0</th>\n",
       "      <td>1000_0</td>\n",
       "      <td>2018-06-27</td>\n",
       "      <td>1000</td>\n",
       "      <td>2018</td>\n",
       "      <td>6</td>\n",
       "      <td>27</td>\n",
       "    </tr>\n",
       "    <tr>\n",
       "      <th>1</th>\n",
       "      <td>1000_1</td>\n",
       "      <td>2018-10-08</td>\n",
       "      <td>1000</td>\n",
       "      <td>2018</td>\n",
       "      <td>10</td>\n",
       "      <td>8</td>\n",
       "    </tr>\n",
       "    <tr>\n",
       "      <th>2</th>\n",
       "      <td>1000_2</td>\n",
       "      <td>2018-08-04</td>\n",
       "      <td>1000</td>\n",
       "      <td>2018</td>\n",
       "      <td>8</td>\n",
       "      <td>4</td>\n",
       "    </tr>\n",
       "    <tr>\n",
       "      <th>3</th>\n",
       "      <td>1000_3</td>\n",
       "      <td>2018-06-16</td>\n",
       "      <td>1000</td>\n",
       "      <td>2018</td>\n",
       "      <td>6</td>\n",
       "      <td>16</td>\n",
       "    </tr>\n",
       "    <tr>\n",
       "      <th>4</th>\n",
       "      <td>1000_4</td>\n",
       "      <td>2018-12-05</td>\n",
       "      <td>1000</td>\n",
       "      <td>2018</td>\n",
       "      <td>12</td>\n",
       "      <td>5</td>\n",
       "    </tr>\n",
       "  </tbody>\n",
       "</table>\n",
       "</div>"
      ],
      "text/plain": [
       "       id message_date  user_id  year  month  day\n",
       "0  1000_0   2018-06-27     1000  2018      6   27\n",
       "1  1000_1   2018-10-08     1000  2018     10    8\n",
       "2  1000_2   2018-08-04     1000  2018      8    4\n",
       "3  1000_3   2018-06-16     1000  2018      6   16\n",
       "4  1000_4   2018-12-05     1000  2018     12    5"
      ]
     },
     "execution_count": 6,
     "metadata": {},
     "output_type": "execute_result"
    }
   ],
   "source": [
    "data_messages.head(5)"
   ]
  },
  {
   "cell_type": "code",
   "execution_count": 7,
   "metadata": {},
   "outputs": [
    {
     "name": "stdout",
     "output_type": "stream",
     "text": [
      "Количество пропущенных значений в столбце  user_id  =  0\n",
      "Количество пропущенных значений в столбце  age  =  0\n",
      "Количество пропущенных значений в столбце  churn_date  =  0\n",
      "Количество пропущенных значений в столбце  city  =  0\n",
      "Количество пропущенных значений в столбце  first_name  =  0\n",
      "Количество пропущенных значений в столбце  last_name  =  0\n",
      "Количество пропущенных значений в столбце  reg_date  =  0\n",
      "Количество пропущенных значений в столбце  tariff  =  0\n",
      "\n",
      "<class 'pandas.core.frame.DataFrame'>\n",
      "RangeIndex: 500 entries, 0 to 499\n",
      "Data columns (total 8 columns):\n",
      "user_id       500 non-null int64\n",
      "age           500 non-null int64\n",
      "churn_date    500 non-null datetime64[ns]\n",
      "city          500 non-null object\n",
      "first_name    500 non-null object\n",
      "last_name     500 non-null object\n",
      "reg_date      500 non-null datetime64[ns]\n",
      "tariff        500 non-null object\n",
      "dtypes: datetime64[ns](2), int64(2), object(4)\n",
      "memory usage: 31.3+ KB\n"
     ]
    }
   ],
   "source": [
    "data_users = pd.read_csv('/Users/garynich/Documents/1. Проекты.Готовые/2. Telecom аналитика/stat_data_users.csv')\n",
    "\n",
    "\n",
    "data_users['reg_date'] = pd.to_datetime(data_users['reg_date'], format = '%Y-%m-%d')\n",
    "\n",
    "data_users['churn_date'] = data_users['churn_date'].fillna('2019-08-10')\n",
    "data_users['churn_date'] = pd.to_datetime(data_users['churn_date'], format = '%Y-%m-%d')\n",
    "\n",
    "\n",
    "for i in data_users.columns:\n",
    "    print('Количество пропущенных значений в столбце ', i, ' = ', data_users[i].isnull().sum())\n",
    "    \n",
    "\n",
    "    \n",
    "print()\n",
    "\n",
    "data_users.info()"
   ]
  },
  {
   "cell_type": "code",
   "execution_count": 8,
   "metadata": {},
   "outputs": [
    {
     "data": {
      "text/html": [
       "<div>\n",
       "<style scoped>\n",
       "    .dataframe tbody tr th:only-of-type {\n",
       "        vertical-align: middle;\n",
       "    }\n",
       "\n",
       "    .dataframe tbody tr th {\n",
       "        vertical-align: top;\n",
       "    }\n",
       "\n",
       "    .dataframe thead th {\n",
       "        text-align: right;\n",
       "    }\n",
       "</style>\n",
       "<table border=\"1\" class=\"dataframe\">\n",
       "  <thead>\n",
       "    <tr style=\"text-align: right;\">\n",
       "      <th></th>\n",
       "      <th>user_id</th>\n",
       "      <th>age</th>\n",
       "      <th>churn_date</th>\n",
       "      <th>city</th>\n",
       "      <th>first_name</th>\n",
       "      <th>last_name</th>\n",
       "      <th>reg_date</th>\n",
       "      <th>tariff</th>\n",
       "    </tr>\n",
       "  </thead>\n",
       "  <tbody>\n",
       "    <tr>\n",
       "      <th>0</th>\n",
       "      <td>1000</td>\n",
       "      <td>52</td>\n",
       "      <td>2019-08-10</td>\n",
       "      <td>Краснодар</td>\n",
       "      <td>Рафаил</td>\n",
       "      <td>Верещагин</td>\n",
       "      <td>2018-05-25</td>\n",
       "      <td>ultra</td>\n",
       "    </tr>\n",
       "    <tr>\n",
       "      <th>1</th>\n",
       "      <td>1001</td>\n",
       "      <td>41</td>\n",
       "      <td>2019-08-10</td>\n",
       "      <td>Москва</td>\n",
       "      <td>Иван</td>\n",
       "      <td>Ежов</td>\n",
       "      <td>2018-11-01</td>\n",
       "      <td>smart</td>\n",
       "    </tr>\n",
       "    <tr>\n",
       "      <th>2</th>\n",
       "      <td>1002</td>\n",
       "      <td>59</td>\n",
       "      <td>2019-08-10</td>\n",
       "      <td>Стерлитамак</td>\n",
       "      <td>Евгений</td>\n",
       "      <td>Абрамович</td>\n",
       "      <td>2018-06-17</td>\n",
       "      <td>smart</td>\n",
       "    </tr>\n",
       "    <tr>\n",
       "      <th>3</th>\n",
       "      <td>1003</td>\n",
       "      <td>23</td>\n",
       "      <td>2019-08-10</td>\n",
       "      <td>Москва</td>\n",
       "      <td>Белла</td>\n",
       "      <td>Белякова</td>\n",
       "      <td>2018-08-17</td>\n",
       "      <td>ultra</td>\n",
       "    </tr>\n",
       "    <tr>\n",
       "      <th>4</th>\n",
       "      <td>1004</td>\n",
       "      <td>68</td>\n",
       "      <td>2019-08-10</td>\n",
       "      <td>Новокузнецк</td>\n",
       "      <td>Татьяна</td>\n",
       "      <td>Авдеенко</td>\n",
       "      <td>2018-05-14</td>\n",
       "      <td>ultra</td>\n",
       "    </tr>\n",
       "  </tbody>\n",
       "</table>\n",
       "</div>"
      ],
      "text/plain": [
       "   user_id  age churn_date         city first_name  last_name   reg_date  \\\n",
       "0     1000   52 2019-08-10    Краснодар     Рафаил  Верещагин 2018-05-25   \n",
       "1     1001   41 2019-08-10       Москва       Иван       Ежов 2018-11-01   \n",
       "2     1002   59 2019-08-10  Стерлитамак    Евгений  Абрамович 2018-06-17   \n",
       "3     1003   23 2019-08-10       Москва      Белла   Белякова 2018-08-17   \n",
       "4     1004   68 2019-08-10  Новокузнецк    Татьяна   Авдеенко 2018-05-14   \n",
       "\n",
       "  tariff  \n",
       "0  ultra  \n",
       "1  smart  \n",
       "2  smart  \n",
       "3  ultra  \n",
       "4  ultra  "
      ]
     },
     "execution_count": 8,
     "metadata": {},
     "output_type": "execute_result"
    }
   ],
   "source": [
    "data_users.head(5)"
   ]
  },
  {
   "cell_type": "markdown",
   "metadata": {},
   "source": [
    "В данных data_users пропущенные значения были заменены на фактическую дату, когда проводилось исследование.\n",
    "\n",
    "Пропущенные значения заменены. Данные пригодны для дальнейшего исследования."
   ]
  },
  {
   "cell_type": "markdown",
   "metadata": {},
   "source": [
    "## Предобработка данных\n",
    "\n",
    "Учитывая, что в DataFrame CALLS большинство значений равняются нулю, однако соединение уже произошло, то длительность такого звонка составляет одну минуту. Кроме того, округлим до верхнего значения длительность звонка для более простой тарификации."
   ]
  },
  {
   "cell_type": "code",
   "execution_count": 9,
   "metadata": {},
   "outputs": [],
   "source": [
    "data_calls['duration'] = data_calls['duration'].apply(np.ceil)\n",
    "data_calls['duration'] = data_calls['duration'].replace(0, 1)\n",
    "\n",
    "data_calls = data_calls.merge(data_users[['user_id', 'tariff', 'city']], on = 'user_id', how='left')\n"
   ]
  },
  {
   "cell_type": "code",
   "execution_count": 10,
   "metadata": {},
   "outputs": [
    {
     "data": {
      "text/html": [
       "<div>\n",
       "<style scoped>\n",
       "    .dataframe tbody tr th:only-of-type {\n",
       "        vertical-align: middle;\n",
       "    }\n",
       "\n",
       "    .dataframe tbody tr th {\n",
       "        vertical-align: top;\n",
       "    }\n",
       "\n",
       "    .dataframe thead th {\n",
       "        text-align: right;\n",
       "    }\n",
       "</style>\n",
       "<table border=\"1\" class=\"dataframe\">\n",
       "  <thead>\n",
       "    <tr style=\"text-align: right;\">\n",
       "      <th></th>\n",
       "      <th></th>\n",
       "      <th></th>\n",
       "      <th></th>\n",
       "      <th>duration</th>\n",
       "    </tr>\n",
       "    <tr>\n",
       "      <th>user_id</th>\n",
       "      <th>month</th>\n",
       "      <th>tariff</th>\n",
       "      <th>city</th>\n",
       "      <th></th>\n",
       "    </tr>\n",
       "  </thead>\n",
       "  <tbody>\n",
       "    <tr>\n",
       "      <th rowspan=\"8\" valign=\"top\">1000</th>\n",
       "      <th>5</th>\n",
       "      <th>ultra</th>\n",
       "      <th>Краснодар</th>\n",
       "      <td>164.0</td>\n",
       "    </tr>\n",
       "    <tr>\n",
       "      <th>6</th>\n",
       "      <th>ultra</th>\n",
       "      <th>Краснодар</th>\n",
       "      <td>187.0</td>\n",
       "    </tr>\n",
       "    <tr>\n",
       "      <th>7</th>\n",
       "      <th>ultra</th>\n",
       "      <th>Краснодар</th>\n",
       "      <td>346.0</td>\n",
       "    </tr>\n",
       "    <tr>\n",
       "      <th>8</th>\n",
       "      <th>ultra</th>\n",
       "      <th>Краснодар</th>\n",
       "      <td>418.0</td>\n",
       "    </tr>\n",
       "    <tr>\n",
       "      <th>9</th>\n",
       "      <th>ultra</th>\n",
       "      <th>Краснодар</th>\n",
       "      <td>478.0</td>\n",
       "    </tr>\n",
       "    <tr>\n",
       "      <th>10</th>\n",
       "      <th>ultra</th>\n",
       "      <th>Краснодар</th>\n",
       "      <td>363.0</td>\n",
       "    </tr>\n",
       "    <tr>\n",
       "      <th>11</th>\n",
       "      <th>ultra</th>\n",
       "      <th>Краснодар</th>\n",
       "      <td>344.0</td>\n",
       "    </tr>\n",
       "    <tr>\n",
       "      <th>12</th>\n",
       "      <th>ultra</th>\n",
       "      <th>Краснодар</th>\n",
       "      <td>341.0</td>\n",
       "    </tr>\n",
       "    <tr>\n",
       "      <th rowspan=\"2\" valign=\"top\">1001</th>\n",
       "      <th>11</th>\n",
       "      <th>smart</th>\n",
       "      <th>Москва</th>\n",
       "      <td>444.0</td>\n",
       "    </tr>\n",
       "    <tr>\n",
       "      <th>12</th>\n",
       "      <th>smart</th>\n",
       "      <th>Москва</th>\n",
       "      <td>430.0</td>\n",
       "    </tr>\n",
       "  </tbody>\n",
       "</table>\n",
       "</div>"
      ],
      "text/plain": [
       "                                duration\n",
       "user_id month tariff city               \n",
       "1000    5     ultra  Краснодар     164.0\n",
       "        6     ultra  Краснодар     187.0\n",
       "        7     ultra  Краснодар     346.0\n",
       "        8     ultra  Краснодар     418.0\n",
       "        9     ultra  Краснодар     478.0\n",
       "        10    ultra  Краснодар     363.0\n",
       "        11    ultra  Краснодар     344.0\n",
       "        12    ultra  Краснодар     341.0\n",
       "1001    11    smart  Москва        444.0\n",
       "        12    smart  Москва        430.0"
      ]
     },
     "execution_count": 10,
     "metadata": {},
     "output_type": "execute_result"
    }
   ],
   "source": [
    "data_calls_by_month = data_calls.pivot_table(index = ['user_id', 'month', 'tariff', 'city'], values = 'duration', aggfunc = 'sum')\n",
    "\n",
    "data_calls_by_month.head(10)"
   ]
  },
  {
   "cell_type": "code",
   "execution_count": 11,
   "metadata": {},
   "outputs": [],
   "source": [
    "data_internet['mb_use_real'] = data_internet['mb_used'].apply(np.ceil)\n",
    "data_internet['mb_use_real'] = data_internet['mb_use_real'].replace(0, 1)\n",
    "\n",
    "\n",
    "data_internet = data_internet.merge(data_users[['user_id', 'tariff', 'city']], on = 'user_id', how='left')\n"
   ]
  },
  {
   "cell_type": "code",
   "execution_count": 12,
   "metadata": {},
   "outputs": [
    {
     "data": {
      "text/html": [
       "<div>\n",
       "<style scoped>\n",
       "    .dataframe tbody tr th:only-of-type {\n",
       "        vertical-align: middle;\n",
       "    }\n",
       "\n",
       "    .dataframe tbody tr th {\n",
       "        vertical-align: top;\n",
       "    }\n",
       "\n",
       "    .dataframe thead th {\n",
       "        text-align: right;\n",
       "    }\n",
       "</style>\n",
       "<table border=\"1\" class=\"dataframe\">\n",
       "  <thead>\n",
       "    <tr style=\"text-align: right;\">\n",
       "      <th></th>\n",
       "      <th></th>\n",
       "      <th></th>\n",
       "      <th></th>\n",
       "      <th>mb_use_real</th>\n",
       "    </tr>\n",
       "    <tr>\n",
       "      <th>user_id</th>\n",
       "      <th>month</th>\n",
       "      <th>tariff</th>\n",
       "      <th>city</th>\n",
       "      <th></th>\n",
       "    </tr>\n",
       "  </thead>\n",
       "  <tbody>\n",
       "    <tr>\n",
       "      <th rowspan=\"8\" valign=\"top\">1000</th>\n",
       "      <th>5</th>\n",
       "      <th>ultra</th>\n",
       "      <th>Краснодар</th>\n",
       "      <td>2257.0</td>\n",
       "    </tr>\n",
       "    <tr>\n",
       "      <th>6</th>\n",
       "      <th>ultra</th>\n",
       "      <th>Краснодар</th>\n",
       "      <td>23262.0</td>\n",
       "    </tr>\n",
       "    <tr>\n",
       "      <th>7</th>\n",
       "      <th>ultra</th>\n",
       "      <th>Краснодар</th>\n",
       "      <td>14017.0</td>\n",
       "    </tr>\n",
       "    <tr>\n",
       "      <th>8</th>\n",
       "      <th>ultra</th>\n",
       "      <th>Краснодар</th>\n",
       "      <td>14072.0</td>\n",
       "    </tr>\n",
       "    <tr>\n",
       "      <th>9</th>\n",
       "      <th>ultra</th>\n",
       "      <th>Краснодар</th>\n",
       "      <td>14583.0</td>\n",
       "    </tr>\n",
       "    <tr>\n",
       "      <th>10</th>\n",
       "      <th>ultra</th>\n",
       "      <th>Краснодар</th>\n",
       "      <td>14717.0</td>\n",
       "    </tr>\n",
       "    <tr>\n",
       "      <th>11</th>\n",
       "      <th>ultra</th>\n",
       "      <th>Краснодар</th>\n",
       "      <td>14769.0</td>\n",
       "    </tr>\n",
       "    <tr>\n",
       "      <th>12</th>\n",
       "      <th>ultra</th>\n",
       "      <th>Краснодар</th>\n",
       "      <td>9829.0</td>\n",
       "    </tr>\n",
       "    <tr>\n",
       "      <th rowspan=\"2\" valign=\"top\">1001</th>\n",
       "      <th>11</th>\n",
       "      <th>smart</th>\n",
       "      <th>Москва</th>\n",
       "      <td>18460.0</td>\n",
       "    </tr>\n",
       "    <tr>\n",
       "      <th>12</th>\n",
       "      <th>smart</th>\n",
       "      <th>Москва</th>\n",
       "      <td>14059.0</td>\n",
       "    </tr>\n",
       "  </tbody>\n",
       "</table>\n",
       "</div>"
      ],
      "text/plain": [
       "                                mb_use_real\n",
       "user_id month tariff city                  \n",
       "1000    5     ultra  Краснодар       2257.0\n",
       "        6     ultra  Краснодар      23262.0\n",
       "        7     ultra  Краснодар      14017.0\n",
       "        8     ultra  Краснодар      14072.0\n",
       "        9     ultra  Краснодар      14583.0\n",
       "        10    ultra  Краснодар      14717.0\n",
       "        11    ultra  Краснодар      14769.0\n",
       "        12    ultra  Краснодар       9829.0\n",
       "1001    11    smart  Москва         18460.0\n",
       "        12    smart  Москва         14059.0"
      ]
     },
     "execution_count": 12,
     "metadata": {},
     "output_type": "execute_result"
    }
   ],
   "source": [
    "data_internet_by_month = data_internet.pivot_table(index = ['user_id', 'month', 'tariff', 'city'], values = 'mb_use_real', aggfunc = 'sum')\n",
    "data_internet_by_month.head(10)"
   ]
  },
  {
   "cell_type": "code",
   "execution_count": 13,
   "metadata": {},
   "outputs": [],
   "source": [
    "data_messages = data_messages.merge(data_users[['user_id', 'tariff', 'city']], on = 'user_id', how='left')\n"
   ]
  },
  {
   "cell_type": "code",
   "execution_count": 14,
   "metadata": {},
   "outputs": [
    {
     "data": {
      "text/html": [
       "<div>\n",
       "<style scoped>\n",
       "    .dataframe tbody tr th:only-of-type {\n",
       "        vertical-align: middle;\n",
       "    }\n",
       "\n",
       "    .dataframe tbody tr th {\n",
       "        vertical-align: top;\n",
       "    }\n",
       "\n",
       "    .dataframe thead th {\n",
       "        text-align: right;\n",
       "    }\n",
       "</style>\n",
       "<table border=\"1\" class=\"dataframe\">\n",
       "  <thead>\n",
       "    <tr style=\"text-align: right;\">\n",
       "      <th></th>\n",
       "      <th></th>\n",
       "      <th></th>\n",
       "      <th></th>\n",
       "      <th>total_mes</th>\n",
       "    </tr>\n",
       "    <tr>\n",
       "      <th>user_id</th>\n",
       "      <th>month</th>\n",
       "      <th>tariff</th>\n",
       "      <th>city</th>\n",
       "      <th></th>\n",
       "    </tr>\n",
       "  </thead>\n",
       "  <tbody>\n",
       "    <tr>\n",
       "      <th rowspan=\"8\" valign=\"top\">1000</th>\n",
       "      <th>5</th>\n",
       "      <th>ultra</th>\n",
       "      <th>Краснодар</th>\n",
       "      <td>22</td>\n",
       "    </tr>\n",
       "    <tr>\n",
       "      <th>6</th>\n",
       "      <th>ultra</th>\n",
       "      <th>Краснодар</th>\n",
       "      <td>60</td>\n",
       "    </tr>\n",
       "    <tr>\n",
       "      <th>7</th>\n",
       "      <th>ultra</th>\n",
       "      <th>Краснодар</th>\n",
       "      <td>75</td>\n",
       "    </tr>\n",
       "    <tr>\n",
       "      <th>8</th>\n",
       "      <th>ultra</th>\n",
       "      <th>Краснодар</th>\n",
       "      <td>81</td>\n",
       "    </tr>\n",
       "    <tr>\n",
       "      <th>9</th>\n",
       "      <th>ultra</th>\n",
       "      <th>Краснодар</th>\n",
       "      <td>57</td>\n",
       "    </tr>\n",
       "    <tr>\n",
       "      <th>10</th>\n",
       "      <th>ultra</th>\n",
       "      <th>Краснодар</th>\n",
       "      <td>73</td>\n",
       "    </tr>\n",
       "    <tr>\n",
       "      <th>11</th>\n",
       "      <th>ultra</th>\n",
       "      <th>Краснодар</th>\n",
       "      <td>58</td>\n",
       "    </tr>\n",
       "    <tr>\n",
       "      <th>12</th>\n",
       "      <th>ultra</th>\n",
       "      <th>Краснодар</th>\n",
       "      <td>70</td>\n",
       "    </tr>\n",
       "    <tr>\n",
       "      <th rowspan=\"2\" valign=\"top\">1002</th>\n",
       "      <th>6</th>\n",
       "      <th>smart</th>\n",
       "      <th>Стерлитамак</th>\n",
       "      <td>4</td>\n",
       "    </tr>\n",
       "    <tr>\n",
       "      <th>7</th>\n",
       "      <th>smart</th>\n",
       "      <th>Стерлитамак</th>\n",
       "      <td>11</td>\n",
       "    </tr>\n",
       "  </tbody>\n",
       "</table>\n",
       "</div>"
      ],
      "text/plain": [
       "                                  total_mes\n",
       "user_id month tariff city                  \n",
       "1000    5     ultra  Краснодар           22\n",
       "        6     ultra  Краснодар           60\n",
       "        7     ultra  Краснодар           75\n",
       "        8     ultra  Краснодар           81\n",
       "        9     ultra  Краснодар           57\n",
       "        10    ultra  Краснодар           73\n",
       "        11    ultra  Краснодар           58\n",
       "        12    ultra  Краснодар           70\n",
       "1002    6     smart  Стерлитамак          4\n",
       "        7     smart  Стерлитамак         11"
      ]
     },
     "execution_count": 14,
     "metadata": {},
     "output_type": "execute_result"
    }
   ],
   "source": [
    "data_messages_by_month = data_messages.pivot_table(index = ['user_id', 'month', 'tariff', 'city'], values = 'message_date', aggfunc = 'count')\n",
    "data_messages_by_month.columns = ['total_mes']\n",
    "\n",
    "data_messages_by_month.head(10)"
   ]
  },
  {
   "cell_type": "code",
   "execution_count": 15,
   "metadata": {},
   "outputs": [
    {
     "name": "stdout",
     "output_type": "stream",
     "text": [
      "<class 'pandas.core.frame.DataFrame'>\n",
      "MultiIndex: 2717 entries, (1000, 5, ultra, Краснодар) to (1446, 8, smart, Липецк)\n",
      "Data columns (total 3 columns):\n",
      "duration       2667 non-null float64\n",
      "mb_use_real    2706 non-null float64\n",
      "total_mes      2717 non-null int64\n",
      "dtypes: float64(2), int64(1)\n",
      "memory usage: 81.3+ KB\n"
     ]
    }
   ],
   "source": [
    "final_report_right = data_calls_by_month.merge(data_internet_by_month, how='right', on=['user_id','month', 'tariff', 'city'])\n",
    "\n",
    "final_report_right = final_report_right.merge(data_messages_by_month, how='right', on=['user_id','month', 'tariff', 'city'])\n",
    "\n",
    "final_report_right.info()\n"
   ]
  },
  {
   "cell_type": "code",
   "execution_count": 16,
   "metadata": {},
   "outputs": [
    {
     "name": "stdout",
     "output_type": "stream",
     "text": [
      "<class 'pandas.core.frame.DataFrame'>\n",
      "MultiIndex: 3214 entries, (1000, 5, ultra, Краснодар) to (1489, 12, smart, Санкт-Петербург)\n",
      "Data columns (total 3 columns):\n",
      "duration       3174 non-null float64\n",
      "mb_use_real    3203 non-null float64\n",
      "total_mes      2717 non-null float64\n",
      "dtypes: float64(3)\n",
      "memory usage: 95.9+ KB\n"
     ]
    }
   ],
   "source": [
    "final_report = data_calls_by_month.merge(data_internet_by_month, how='outer', on=['user_id','month', 'tariff', 'city'])\n",
    "\n",
    "final_report = final_report.merge(data_messages_by_month, how='outer', on=['user_id','month', 'tariff', 'city'])\n",
    "\n",
    "final_report.info()\n"
   ]
  },
  {
   "cell_type": "code",
   "execution_count": 17,
   "metadata": {},
   "outputs": [
    {
     "name": "stdout",
     "output_type": "stream",
     "text": [
      "<class 'pandas.core.frame.DataFrame'>\n",
      "MultiIndex: 3174 entries, (1000, 5, ultra, Краснодар) to (1499, 12, smart, Пермь)\n",
      "Data columns (total 3 columns):\n",
      "duration       3174 non-null float64\n",
      "mb_use_real    3163 non-null float64\n",
      "total_mes      2678 non-null float64\n",
      "dtypes: float64(3)\n",
      "memory usage: 94.8+ KB\n"
     ]
    }
   ],
   "source": [
    "final_report_left = data_calls_by_month.merge(data_internet_by_month, how='left', on=['user_id','month', 'tariff', 'city'])\n",
    "\n",
    "final_report_left = final_report_left.merge(data_messages_by_month, how='left', on=['user_id','month', 'tariff', 'city'])\n",
    "final_report_left.info()\n"
   ]
  },
  {
   "cell_type": "code",
   "execution_count": 18,
   "metadata": {},
   "outputs": [
    {
     "data": {
      "text/html": [
       "<div>\n",
       "<style scoped>\n",
       "    .dataframe tbody tr th:only-of-type {\n",
       "        vertical-align: middle;\n",
       "    }\n",
       "\n",
       "    .dataframe tbody tr th {\n",
       "        vertical-align: top;\n",
       "    }\n",
       "\n",
       "    .dataframe thead th {\n",
       "        text-align: right;\n",
       "    }\n",
       "</style>\n",
       "<table border=\"1\" class=\"dataframe\">\n",
       "  <thead>\n",
       "    <tr style=\"text-align: right;\">\n",
       "      <th></th>\n",
       "      <th></th>\n",
       "      <th></th>\n",
       "      <th></th>\n",
       "      <th>duration</th>\n",
       "      <th>mb_use_real</th>\n",
       "      <th>total_mes</th>\n",
       "    </tr>\n",
       "    <tr>\n",
       "      <th>user_id</th>\n",
       "      <th>month</th>\n",
       "      <th>tariff</th>\n",
       "      <th>city</th>\n",
       "      <th></th>\n",
       "      <th></th>\n",
       "      <th></th>\n",
       "    </tr>\n",
       "  </thead>\n",
       "  <tbody>\n",
       "    <tr>\n",
       "      <th rowspan=\"8\" valign=\"top\">1000</th>\n",
       "      <th>5</th>\n",
       "      <th>ultra</th>\n",
       "      <th>Краснодар</th>\n",
       "      <td>164.0</td>\n",
       "      <td>2257.0</td>\n",
       "      <td>22.0</td>\n",
       "    </tr>\n",
       "    <tr>\n",
       "      <th>6</th>\n",
       "      <th>ultra</th>\n",
       "      <th>Краснодар</th>\n",
       "      <td>187.0</td>\n",
       "      <td>23262.0</td>\n",
       "      <td>60.0</td>\n",
       "    </tr>\n",
       "    <tr>\n",
       "      <th>7</th>\n",
       "      <th>ultra</th>\n",
       "      <th>Краснодар</th>\n",
       "      <td>346.0</td>\n",
       "      <td>14017.0</td>\n",
       "      <td>75.0</td>\n",
       "    </tr>\n",
       "    <tr>\n",
       "      <th>8</th>\n",
       "      <th>ultra</th>\n",
       "      <th>Краснодар</th>\n",
       "      <td>418.0</td>\n",
       "      <td>14072.0</td>\n",
       "      <td>81.0</td>\n",
       "    </tr>\n",
       "    <tr>\n",
       "      <th>9</th>\n",
       "      <th>ultra</th>\n",
       "      <th>Краснодар</th>\n",
       "      <td>478.0</td>\n",
       "      <td>14583.0</td>\n",
       "      <td>57.0</td>\n",
       "    </tr>\n",
       "    <tr>\n",
       "      <th>10</th>\n",
       "      <th>ultra</th>\n",
       "      <th>Краснодар</th>\n",
       "      <td>363.0</td>\n",
       "      <td>14717.0</td>\n",
       "      <td>73.0</td>\n",
       "    </tr>\n",
       "    <tr>\n",
       "      <th>11</th>\n",
       "      <th>ultra</th>\n",
       "      <th>Краснодар</th>\n",
       "      <td>344.0</td>\n",
       "      <td>14769.0</td>\n",
       "      <td>58.0</td>\n",
       "    </tr>\n",
       "    <tr>\n",
       "      <th>12</th>\n",
       "      <th>ultra</th>\n",
       "      <th>Краснодар</th>\n",
       "      <td>341.0</td>\n",
       "      <td>9829.0</td>\n",
       "      <td>70.0</td>\n",
       "    </tr>\n",
       "    <tr>\n",
       "      <th rowspan=\"2\" valign=\"top\">1001</th>\n",
       "      <th>11</th>\n",
       "      <th>smart</th>\n",
       "      <th>Москва</th>\n",
       "      <td>444.0</td>\n",
       "      <td>18460.0</td>\n",
       "      <td>0.0</td>\n",
       "    </tr>\n",
       "    <tr>\n",
       "      <th>12</th>\n",
       "      <th>smart</th>\n",
       "      <th>Москва</th>\n",
       "      <td>430.0</td>\n",
       "      <td>14059.0</td>\n",
       "      <td>0.0</td>\n",
       "    </tr>\n",
       "  </tbody>\n",
       "</table>\n",
       "</div>"
      ],
      "text/plain": [
       "                                duration  mb_use_real  total_mes\n",
       "user_id month tariff city                                       \n",
       "1000    5     ultra  Краснодар     164.0       2257.0       22.0\n",
       "        6     ultra  Краснодар     187.0      23262.0       60.0\n",
       "        7     ultra  Краснодар     346.0      14017.0       75.0\n",
       "        8     ultra  Краснодар     418.0      14072.0       81.0\n",
       "        9     ultra  Краснодар     478.0      14583.0       57.0\n",
       "        10    ultra  Краснодар     363.0      14717.0       73.0\n",
       "        11    ultra  Краснодар     344.0      14769.0       58.0\n",
       "        12    ultra  Краснодар     341.0       9829.0       70.0\n",
       "1001    11    smart  Москва        444.0      18460.0        0.0\n",
       "        12    smart  Москва        430.0      14059.0        0.0"
      ]
     },
     "execution_count": 18,
     "metadata": {},
     "output_type": "execute_result"
    }
   ],
   "source": [
    "final_report = final_report.fillna(0)\n",
    "#заполняем пропущенные значение 0, так как абонент не пользовался данной услугой в указанный срок\n",
    "final_report.head(10)"
   ]
  },
  {
   "cell_type": "markdown",
   "metadata": {},
   "source": [
    "Получена сводная таблица по использованным услугам. Дальнейшая работа будет выполняться с нею."
   ]
  },
  {
   "cell_type": "markdown",
   "metadata": {},
   "source": [
    "# Шаг 2. Выполняем рассчеты оплаты услуги"
   ]
  },
  {
   "cell_type": "code",
   "execution_count": 19,
   "metadata": {},
   "outputs": [
    {
     "data": {
      "text/html": [
       "<div>\n",
       "<style scoped>\n",
       "    .dataframe tbody tr th:only-of-type {\n",
       "        vertical-align: middle;\n",
       "    }\n",
       "\n",
       "    .dataframe tbody tr th {\n",
       "        vertical-align: top;\n",
       "    }\n",
       "\n",
       "    .dataframe thead th {\n",
       "        text-align: right;\n",
       "    }\n",
       "</style>\n",
       "<table border=\"1\" class=\"dataframe\">\n",
       "  <thead>\n",
       "    <tr style=\"text-align: right;\">\n",
       "      <th></th>\n",
       "      <th>user_id</th>\n",
       "      <th>month</th>\n",
       "      <th>tariff</th>\n",
       "      <th>city</th>\n",
       "      <th>duration</th>\n",
       "      <th>mb_use_real</th>\n",
       "      <th>total_mes</th>\n",
       "    </tr>\n",
       "  </thead>\n",
       "  <tbody>\n",
       "    <tr>\n",
       "      <th>0</th>\n",
       "      <td>1000</td>\n",
       "      <td>5</td>\n",
       "      <td>ultra</td>\n",
       "      <td>Краснодар</td>\n",
       "      <td>164.0</td>\n",
       "      <td>2257.0</td>\n",
       "      <td>22.0</td>\n",
       "    </tr>\n",
       "    <tr>\n",
       "      <th>1</th>\n",
       "      <td>1000</td>\n",
       "      <td>6</td>\n",
       "      <td>ultra</td>\n",
       "      <td>Краснодар</td>\n",
       "      <td>187.0</td>\n",
       "      <td>23262.0</td>\n",
       "      <td>60.0</td>\n",
       "    </tr>\n",
       "    <tr>\n",
       "      <th>2</th>\n",
       "      <td>1000</td>\n",
       "      <td>7</td>\n",
       "      <td>ultra</td>\n",
       "      <td>Краснодар</td>\n",
       "      <td>346.0</td>\n",
       "      <td>14017.0</td>\n",
       "      <td>75.0</td>\n",
       "    </tr>\n",
       "    <tr>\n",
       "      <th>3</th>\n",
       "      <td>1000</td>\n",
       "      <td>8</td>\n",
       "      <td>ultra</td>\n",
       "      <td>Краснодар</td>\n",
       "      <td>418.0</td>\n",
       "      <td>14072.0</td>\n",
       "      <td>81.0</td>\n",
       "    </tr>\n",
       "    <tr>\n",
       "      <th>4</th>\n",
       "      <td>1000</td>\n",
       "      <td>9</td>\n",
       "      <td>ultra</td>\n",
       "      <td>Краснодар</td>\n",
       "      <td>478.0</td>\n",
       "      <td>14583.0</td>\n",
       "      <td>57.0</td>\n",
       "    </tr>\n",
       "    <tr>\n",
       "      <th>5</th>\n",
       "      <td>1000</td>\n",
       "      <td>10</td>\n",
       "      <td>ultra</td>\n",
       "      <td>Краснодар</td>\n",
       "      <td>363.0</td>\n",
       "      <td>14717.0</td>\n",
       "      <td>73.0</td>\n",
       "    </tr>\n",
       "    <tr>\n",
       "      <th>6</th>\n",
       "      <td>1000</td>\n",
       "      <td>11</td>\n",
       "      <td>ultra</td>\n",
       "      <td>Краснодар</td>\n",
       "      <td>344.0</td>\n",
       "      <td>14769.0</td>\n",
       "      <td>58.0</td>\n",
       "    </tr>\n",
       "    <tr>\n",
       "      <th>7</th>\n",
       "      <td>1000</td>\n",
       "      <td>12</td>\n",
       "      <td>ultra</td>\n",
       "      <td>Краснодар</td>\n",
       "      <td>341.0</td>\n",
       "      <td>9829.0</td>\n",
       "      <td>70.0</td>\n",
       "    </tr>\n",
       "  </tbody>\n",
       "</table>\n",
       "</div>"
      ],
      "text/plain": [
       "   user_id  month tariff       city  duration  mb_use_real  total_mes\n",
       "0     1000      5  ultra  Краснодар     164.0       2257.0       22.0\n",
       "1     1000      6  ultra  Краснодар     187.0      23262.0       60.0\n",
       "2     1000      7  ultra  Краснодар     346.0      14017.0       75.0\n",
       "3     1000      8  ultra  Краснодар     418.0      14072.0       81.0\n",
       "4     1000      9  ultra  Краснодар     478.0      14583.0       57.0\n",
       "5     1000     10  ultra  Краснодар     363.0      14717.0       73.0\n",
       "6     1000     11  ultra  Краснодар     344.0      14769.0       58.0\n",
       "7     1000     12  ultra  Краснодар     341.0       9829.0       70.0"
      ]
     },
     "execution_count": 19,
     "metadata": {},
     "output_type": "execute_result"
    }
   ],
   "source": [
    "final_report = final_report.reset_index()\n",
    "final_report.head(8)\n"
   ]
  },
  {
   "cell_type": "code",
   "execution_count": 20,
   "metadata": {},
   "outputs": [
    {
     "data": {
      "text/html": [
       "<div>\n",
       "<style scoped>\n",
       "    .dataframe tbody tr th:only-of-type {\n",
       "        vertical-align: middle;\n",
       "    }\n",
       "\n",
       "    .dataframe tbody tr th {\n",
       "        vertical-align: top;\n",
       "    }\n",
       "\n",
       "    .dataframe thead th {\n",
       "        text-align: right;\n",
       "    }\n",
       "</style>\n",
       "<table border=\"1\" class=\"dataframe\">\n",
       "  <thead>\n",
       "    <tr style=\"text-align: right;\">\n",
       "      <th></th>\n",
       "      <th></th>\n",
       "      <th></th>\n",
       "      <th></th>\n",
       "      <th>duration</th>\n",
       "      <th>mb_use_real</th>\n",
       "      <th>month_pay</th>\n",
       "      <th>pay_for_calls</th>\n",
       "      <th>pay_for_internet</th>\n",
       "      <th>pay_for_messages</th>\n",
       "      <th>total_income</th>\n",
       "      <th>total_mes</th>\n",
       "    </tr>\n",
       "    <tr>\n",
       "      <th>user_id</th>\n",
       "      <th>month</th>\n",
       "      <th>tariff</th>\n",
       "      <th>city</th>\n",
       "      <th></th>\n",
       "      <th></th>\n",
       "      <th></th>\n",
       "      <th></th>\n",
       "      <th></th>\n",
       "      <th></th>\n",
       "      <th></th>\n",
       "      <th></th>\n",
       "    </tr>\n",
       "  </thead>\n",
       "  <tbody>\n",
       "    <tr>\n",
       "      <th rowspan=\"8\" valign=\"top\">1000</th>\n",
       "      <th>5</th>\n",
       "      <th>ultra</th>\n",
       "      <th>Краснодар</th>\n",
       "      <td>164.0</td>\n",
       "      <td>2257.0</td>\n",
       "      <td>1950</td>\n",
       "      <td>0.0</td>\n",
       "      <td>0.0</td>\n",
       "      <td>0.0</td>\n",
       "      <td>1950.0</td>\n",
       "      <td>22.0</td>\n",
       "    </tr>\n",
       "    <tr>\n",
       "      <th>6</th>\n",
       "      <th>ultra</th>\n",
       "      <th>Краснодар</th>\n",
       "      <td>187.0</td>\n",
       "      <td>23262.0</td>\n",
       "      <td>1950</td>\n",
       "      <td>0.0</td>\n",
       "      <td>0.0</td>\n",
       "      <td>0.0</td>\n",
       "      <td>1950.0</td>\n",
       "      <td>60.0</td>\n",
       "    </tr>\n",
       "    <tr>\n",
       "      <th>7</th>\n",
       "      <th>ultra</th>\n",
       "      <th>Краснодар</th>\n",
       "      <td>346.0</td>\n",
       "      <td>14017.0</td>\n",
       "      <td>1950</td>\n",
       "      <td>0.0</td>\n",
       "      <td>0.0</td>\n",
       "      <td>0.0</td>\n",
       "      <td>1950.0</td>\n",
       "      <td>75.0</td>\n",
       "    </tr>\n",
       "    <tr>\n",
       "      <th>8</th>\n",
       "      <th>ultra</th>\n",
       "      <th>Краснодар</th>\n",
       "      <td>418.0</td>\n",
       "      <td>14072.0</td>\n",
       "      <td>1950</td>\n",
       "      <td>0.0</td>\n",
       "      <td>0.0</td>\n",
       "      <td>0.0</td>\n",
       "      <td>1950.0</td>\n",
       "      <td>81.0</td>\n",
       "    </tr>\n",
       "    <tr>\n",
       "      <th>9</th>\n",
       "      <th>ultra</th>\n",
       "      <th>Краснодар</th>\n",
       "      <td>478.0</td>\n",
       "      <td>14583.0</td>\n",
       "      <td>1950</td>\n",
       "      <td>0.0</td>\n",
       "      <td>0.0</td>\n",
       "      <td>0.0</td>\n",
       "      <td>1950.0</td>\n",
       "      <td>57.0</td>\n",
       "    </tr>\n",
       "    <tr>\n",
       "      <th>10</th>\n",
       "      <th>ultra</th>\n",
       "      <th>Краснодар</th>\n",
       "      <td>363.0</td>\n",
       "      <td>14717.0</td>\n",
       "      <td>1950</td>\n",
       "      <td>0.0</td>\n",
       "      <td>0.0</td>\n",
       "      <td>0.0</td>\n",
       "      <td>1950.0</td>\n",
       "      <td>73.0</td>\n",
       "    </tr>\n",
       "    <tr>\n",
       "      <th>11</th>\n",
       "      <th>ultra</th>\n",
       "      <th>Краснодар</th>\n",
       "      <td>344.0</td>\n",
       "      <td>14769.0</td>\n",
       "      <td>1950</td>\n",
       "      <td>0.0</td>\n",
       "      <td>0.0</td>\n",
       "      <td>0.0</td>\n",
       "      <td>1950.0</td>\n",
       "      <td>58.0</td>\n",
       "    </tr>\n",
       "    <tr>\n",
       "      <th>12</th>\n",
       "      <th>ultra</th>\n",
       "      <th>Краснодар</th>\n",
       "      <td>341.0</td>\n",
       "      <td>9829.0</td>\n",
       "      <td>1950</td>\n",
       "      <td>0.0</td>\n",
       "      <td>0.0</td>\n",
       "      <td>0.0</td>\n",
       "      <td>1950.0</td>\n",
       "      <td>70.0</td>\n",
       "    </tr>\n",
       "    <tr>\n",
       "      <th rowspan=\"2\" valign=\"top\">1001</th>\n",
       "      <th>11</th>\n",
       "      <th>smart</th>\n",
       "      <th>Москва</th>\n",
       "      <td>444.0</td>\n",
       "      <td>18460.0</td>\n",
       "      <td>550</td>\n",
       "      <td>0.0</td>\n",
       "      <td>800.0</td>\n",
       "      <td>0.0</td>\n",
       "      <td>1350.0</td>\n",
       "      <td>0.0</td>\n",
       "    </tr>\n",
       "    <tr>\n",
       "      <th>12</th>\n",
       "      <th>smart</th>\n",
       "      <th>Москва</th>\n",
       "      <td>430.0</td>\n",
       "      <td>14059.0</td>\n",
       "      <td>550</td>\n",
       "      <td>0.0</td>\n",
       "      <td>0.0</td>\n",
       "      <td>0.0</td>\n",
       "      <td>550.0</td>\n",
       "      <td>0.0</td>\n",
       "    </tr>\n",
       "  </tbody>\n",
       "</table>\n",
       "</div>"
      ],
      "text/plain": [
       "                                duration  mb_use_real  month_pay  \\\n",
       "user_id month tariff city                                          \n",
       "1000    5     ultra  Краснодар     164.0       2257.0       1950   \n",
       "        6     ultra  Краснодар     187.0      23262.0       1950   \n",
       "        7     ultra  Краснодар     346.0      14017.0       1950   \n",
       "        8     ultra  Краснодар     418.0      14072.0       1950   \n",
       "        9     ultra  Краснодар     478.0      14583.0       1950   \n",
       "        10    ultra  Краснодар     363.0      14717.0       1950   \n",
       "        11    ultra  Краснодар     344.0      14769.0       1950   \n",
       "        12    ultra  Краснодар     341.0       9829.0       1950   \n",
       "1001    11    smart  Москва        444.0      18460.0        550   \n",
       "        12    smart  Москва        430.0      14059.0        550   \n",
       "\n",
       "                                pay_for_calls  pay_for_internet  \\\n",
       "user_id month tariff city                                         \n",
       "1000    5     ultra  Краснодар            0.0               0.0   \n",
       "        6     ultra  Краснодар            0.0               0.0   \n",
       "        7     ultra  Краснодар            0.0               0.0   \n",
       "        8     ultra  Краснодар            0.0               0.0   \n",
       "        9     ultra  Краснодар            0.0               0.0   \n",
       "        10    ultra  Краснодар            0.0               0.0   \n",
       "        11    ultra  Краснодар            0.0               0.0   \n",
       "        12    ultra  Краснодар            0.0               0.0   \n",
       "1001    11    smart  Москва               0.0             800.0   \n",
       "        12    smart  Москва               0.0               0.0   \n",
       "\n",
       "                                pay_for_messages  total_income  total_mes  \n",
       "user_id month tariff city                                                  \n",
       "1000    5     ultra  Краснодар               0.0        1950.0       22.0  \n",
       "        6     ultra  Краснодар               0.0        1950.0       60.0  \n",
       "        7     ultra  Краснодар               0.0        1950.0       75.0  \n",
       "        8     ultra  Краснодар               0.0        1950.0       81.0  \n",
       "        9     ultra  Краснодар               0.0        1950.0       57.0  \n",
       "        10    ultra  Краснодар               0.0        1950.0       73.0  \n",
       "        11    ultra  Краснодар               0.0        1950.0       58.0  \n",
       "        12    ultra  Краснодар               0.0        1950.0       70.0  \n",
       "1001    11    smart  Москва                  0.0        1350.0        0.0  \n",
       "        12    smart  Москва                  0.0         550.0        0.0  "
      ]
     },
     "execution_count": 20,
     "metadata": {},
     "output_type": "execute_result"
    }
   ],
   "source": [
    "def get_pay_info(sets, lamba):\n",
    "    if sets['tariff'] == 'ultra':\n",
    "        if lamba == 'month_pay':\n",
    "            return 1950\n",
    "        if lamba == 'calls_pay':\n",
    "            if (sets['duration'] - 3000) > 0:\n",
    "                return (sets['duration'] - 3000) * 1 \n",
    "            else: \n",
    "                return 0\n",
    "        if lamba == 'internet_pay':\n",
    "            if (np.ceil((sets['mb_use_real'] - 30 * 1024) / 1024)) > 0:\n",
    "                return (np.ceil((sets['mb_use_real'] - 30 * 1024) / 1024)) * 150 \n",
    "            else: \n",
    "                return 0\n",
    "        if lamba == 'messages_pay':\n",
    "            if (sets['total_mes'] - 1000) > 0:\n",
    "                return (sets['total_mes'] - 1000) * 1 \n",
    "            else: \n",
    "                return 0\n",
    "    if sets['tariff'] == 'smart':\n",
    "        if lamba == 'month_pay':\n",
    "            return 550\n",
    "        if lamba == 'calls_pay':\n",
    "            if (sets['duration'] - 500) > 0:\n",
    "                return (sets['duration'] - 500) * 3 \n",
    "            else: \n",
    "                return 0    \n",
    "        if lamba == 'internet_pay': \n",
    "            if (np.ceil((sets['mb_use_real'] - 15 * 1024) / 1024)) > 0:\n",
    "                return (np.ceil((sets['mb_use_real'] - 15 * 1024) / 1024)) * 200 \n",
    "            else: \n",
    "                return 0   \n",
    "        if lamba == 'messages_pay':\n",
    "            if (sets['total_mes'] - 50) > 0:\n",
    "                return (sets['total_mes'] - 50) * 3 \n",
    "            else: \n",
    "                return 0   \n",
    "    \n",
    "    \n",
    "final_report['month_pay'] = final_report.apply(get_pay_info, lamba = 'month_pay', axis = 1)\n",
    "final_report['pay_for_calls'] = final_report.apply(get_pay_info, lamba = 'calls_pay', axis = 1)\n",
    "final_report['pay_for_internet'] = final_report.apply(get_pay_info, lamba = 'internet_pay', axis = 1)\n",
    "final_report['pay_for_messages'] = final_report.apply(get_pay_info, lamba = 'messages_pay', axis = 1)\n",
    "\n",
    "final_report['total_income'] = final_report['month_pay'] + final_report['pay_for_calls'] + final_report['pay_for_internet'] + final_report['pay_for_messages']\n",
    "\n",
    "new_report = final_report.pivot_table(index = ['user_id', 'month', 'tariff', 'city'])\n",
    "new_report.head(10)"
   ]
  },
  {
   "cell_type": "code",
   "execution_count": 21,
   "metadata": {},
   "outputs": [],
   "source": [
    "from matplotlib import pyplot as plt\n",
    "\n",
    "plt.subplots(figsize = (10, 5))\n",
    "plot = new_report.boxplot('total_income', by = 'tariff', ax = plt.subplot(1, 2, 2))\n",
    "lim = plot.set_ylim(400, 4000)\n"
   ]
  },
  {
   "cell_type": "markdown",
   "metadata": {},
   "source": [
    "На основании построенных графиков можно сделать вывод, что выбросы для тарифов соответствуют:\n",
    "    Smart - нормальное распределене лежит в пределах от 600 до 3500 руб.\n",
    "    Ultra - нормальное распределение соответствует медианному значению в 1900 рублей.\n",
    "    \n",
    "Удаляем выбросы для получения \"чистых\" данных для последующей обработки.\n",
    "    "
   ]
  },
  {
   "cell_type": "code",
   "execution_count": 22,
   "metadata": {},
   "outputs": [],
   "source": [
    "smart_data = new_report.query('tariff == \"smart\" and total_income > 590 and total_income < 3600')\n",
    "ultra_data = new_report.query('tariff == \"ultra\" and total_income < 2500')"
   ]
  },
  {
   "cell_type": "markdown",
   "metadata": {},
   "source": [
    "# Шаг 3. Анализ поведения пользователей"
   ]
  },
  {
   "cell_type": "code",
   "execution_count": 23,
   "metadata": {},
   "outputs": [
    {
     "data": {
      "text/plain": [
       "<matplotlib.axes._subplots.AxesSubplot at 0x12386ff98>"
      ]
     },
     "execution_count": 23,
     "metadata": {},
     "output_type": "execute_result"
    },
    {
     "data": {
      "image/png": "[encoded data removed]",
      "text/plain": [
       "<Figure size 432x288 with 1 Axes>"
      ]
     },
     "metadata": {
      "needs_background": "light"
     },
     "output_type": "display_data"
    }
   ],
   "source": [
    "smart_data['duration'].hist(bins = 50)"
   ]
  },
  {
   "cell_type": "code",
   "execution_count": 24,
   "metadata": {},
   "outputs": [
    {
     "data": {
      "text/plain": [
       "<matplotlib.axes._subplots.AxesSubplot at 0x123f1ecc0>"
      ]
     },
     "execution_count": 24,
     "metadata": {},
     "output_type": "execute_result"
    },
    {
     "data": {
      "image/png": "[encoded data removed]",
      "text/plain": [
       "<Figure size 432x288 with 1 Axes>"
      ]
     },
     "metadata": {
      "needs_background": "light"
     },
     "output_type": "display_data"
    }
   ],
   "source": [
    "smart_data['duration'].hist(bins = [250,275,300,325,350,375,400,425,450,475,500,525,550,575,600,625,650,675,700,725,750,775,800], alpha = 0.5)\n",
    "\n"
   ]
  },
  {
   "cell_type": "code",
   "execution_count": 25,
   "metadata": {},
   "outputs": [
    {
     "data": {
      "text/plain": [
       "<matplotlib.axes._subplots.AxesSubplot at 0x11cd5cd30>"
      ]
     },
     "execution_count": 25,
     "metadata": {},
     "output_type": "execute_result"
    },
    {
     "data": {
      "image/png": "[encoded data removed]",
      "text/plain": [
       "<Figure size 432x288 with 1 Axes>"
      ]
     },
     "metadata": {
      "needs_background": "light"
     },
     "output_type": "display_data"
    }
   ],
   "source": [
    "smart_data['mb_use_real'].hist(bins = 50)\n",
    "\n"
   ]
  },
  {
   "cell_type": "code",
   "execution_count": 26,
   "metadata": {},
   "outputs": [
    {
     "data": {
      "text/plain": [
       "<matplotlib.axes._subplots.AxesSubplot at 0x11ce94588>"
      ]
     },
     "execution_count": 26,
     "metadata": {},
     "output_type": "execute_result"
    },
    {
     "data": {
      "image/png": "[encoded data removed]",
      "text/plain": [
       "<Figure size 432x288 with 1 Axes>"
      ]
     },
     "metadata": {
      "needs_background": "light"
     },
     "output_type": "display_data"
    }
   ],
   "source": [
    "smart_data['mb_use_real'].hist(bins = [11000,12000,13000,14000,15000,16000,17000, 18000, 19000, 20000,21000,22000,23000,24000,25000], alpha = 0.5)\n",
    "\n"
   ]
  },
  {
   "cell_type": "code",
   "execution_count": 27,
   "metadata": {},
   "outputs": [
    {
     "data": {
      "text/plain": [
       "<matplotlib.axes._subplots.AxesSubplot at 0x11dbba710>"
      ]
     },
     "execution_count": 27,
     "metadata": {},
     "output_type": "execute_result"
    },
    {
     "data": {
      "image/png": "[encoded data removed]",
      "text/plain": [
       "<Figure size 432x288 with 1 Axes>"
      ]
     },
     "metadata": {
      "needs_background": "light"
     },
     "output_type": "display_data"
    }
   ],
   "source": [
    "smart_data['total_mes'].hist(bins = 50)"
   ]
  },
  {
   "cell_type": "code",
   "execution_count": 28,
   "metadata": {},
   "outputs": [
    {
     "data": {
      "text/plain": [
       "<matplotlib.axes._subplots.AxesSubplot at 0x123f7e4a8>"
      ]
     },
     "execution_count": 28,
     "metadata": {},
     "output_type": "execute_result"
    },
    {
     "data": {
      "image/png": "[encoded data removed]",
      "text/plain": [
       "<Figure size 432x288 with 1 Axes>"
      ]
     },
     "metadata": {
      "needs_background": "light"
     },
     "output_type": "display_data"
    }
   ],
   "source": [
    "smart_data['total_mes'].hist(bins = [0,10,20,30,40,50,60,70,80,90], alpha = 0.5)"
   ]
  },
  {
   "cell_type": "code",
   "execution_count": 29,
   "metadata": {},
   "outputs": [
    {
     "data": {
      "text/plain": [
       "<matplotlib.axes._subplots.AxesSubplot at 0x124412978>"
      ]
     },
     "execution_count": 29,
     "metadata": {},
     "output_type": "execute_result"
    },
    {
     "data": {
      "image/png": "[encoded data removed]",
      "text/plain": [
       "<Figure size 432x288 with 1 Axes>"
      ]
     },
     "metadata": {
      "needs_background": "light"
     },
     "output_type": "display_data"
    }
   ],
   "source": [
    "smart_data['total_income'].hist(bins = 50)"
   ]
  },
  {
   "cell_type": "code",
   "execution_count": 30,
   "metadata": {},
   "outputs": [
    {
     "data": {
      "text/plain": [
       "<matplotlib.axes._subplots.AxesSubplot at 0x124967518>"
      ]
     },
     "execution_count": 30,
     "metadata": {},
     "output_type": "execute_result"
    },
    {
     "data": {
      "image/png": "[encoded data removed]",
      "text/plain": [
       "<Figure size 432x288 with 1 Axes>"
      ]
     },
     "metadata": {
      "needs_background": "light"
     },
     "output_type": "display_data"
    }
   ],
   "source": [
    "smart_data['total_income'].hist(bins = [500,750,1000,1250,1500,1750,2000,2250,2500,2750], alpha = 0.5)"
   ]
  },
  {
   "cell_type": "code",
   "execution_count": 31,
   "metadata": {},
   "outputs": [
    {
     "name": "stdout",
     "output_type": "stream",
     "text": [
      "Дисперсия для duration =  30945.394149405936\n",
      "Дисперсия для mb_use_real =  18253127.954297338\n",
      "Дисперсия для total_mes =  882.0975127871312\n",
      "Дисперсия для total_income =  489935.1694528857\n",
      "\n",
      "Стандартное отклонение для duration =  175.9130300728344\n",
      "Стандартное отклонение для mb_use_real =  4272.3679563325695\n",
      "Стандартное отклонение для total_mes =  29.70012647762853\n",
      "Стандартное отклонение для total_income =  699.9536909345401\n",
      "\n"
     ]
    }
   ],
   "source": [
    "import numpy as np\n",
    "\n",
    "print('Дисперсия для duration = ', np.var(smart_data['duration']))\n",
    "print('Дисперсия для mb_use_real = ', np.var(smart_data['mb_use_real']))\n",
    "print('Дисперсия для total_mes = ', np.var(smart_data['total_mes']))\n",
    "print('Дисперсия для total_income = ', np.var(smart_data['total_income']))\n",
    "\n",
    "print()\n",
    "\n",
    "print('Стандартное отклонение для duration = ', np.std(smart_data['duration']))\n",
    "print('Стандартное отклонение для mb_use_real = ', np.std(smart_data['mb_use_real']))\n",
    "print('Стандартное отклонение для total_mes = ', np.std(smart_data['total_mes']))\n",
    "print('Стандартное отклонение для total_income = ', np.std(smart_data['total_income']))\n",
    "\n",
    "print()"
   ]
  },
  {
   "cell_type": "markdown",
   "metadata": {},
   "source": [
    "На основании построенных графиков можно сделать выводы, что для пользователей тарифа  \"Smart\" характерно потребление следующего количества услуг:\n",
    "    1. Минут разговора от 350 до 600. Чаще всего пользователям требуется 575-500 минут. Дисперсия составляет 30945.394. Стандартное отклонение - 175.9130\n",
    "    2. Трафика - от 16 до 19 Гб. Чаще всего пользователям требуется 16-17 Гб. Дисперсия составляет 18253127.954 Стандартное отклонение - 4272.36\n",
    "    3. СМС сообщений - от 0 до 10 СМС. Чаще всего пользователям требуется 0 до 10 СМС. Дисперсия составляет 882.09. Стандартное отклонение - 29.7\n",
    "    4. Средняя прибыль от тарифа Smart - 750, 1000, 1500, 2000 рублей. Чаще всего пользователи приносят компании от 750 до 1000 рублей. Дисперсия составляет 489935.16. Стандартное отклонение - 699.95"
   ]
  },
  {
   "cell_type": "code",
   "execution_count": 32,
   "metadata": {},
   "outputs": [
    {
     "data": {
      "text/plain": [
       "<matplotlib.axes._subplots.AxesSubplot at 0x12493c588>"
      ]
     },
     "execution_count": 32,
     "metadata": {},
     "output_type": "execute_result"
    },
    {
     "data": {
      "image/png": "[encoded data removed]",
      "text/plain": [
       "<Figure size 432x288 with 1 Axes>"
      ]
     },
     "metadata": {
      "needs_background": "light"
     },
     "output_type": "display_data"
    }
   ],
   "source": [
    "ultra_data['duration'].hist(bins = 50)"
   ]
  },
  {
   "cell_type": "code",
   "execution_count": 33,
   "metadata": {},
   "outputs": [
    {
     "data": {
      "text/plain": [
       "<matplotlib.axes._subplots.AxesSubplot at 0x124b93ba8>"
      ]
     },
     "execution_count": 33,
     "metadata": {},
     "output_type": "execute_result"
    },
    {
     "data": {
      "image/png": "[encoded data removed]",
      "text/plain": [
       "<Figure size 432x288 with 1 Axes>"
      ]
     },
     "metadata": {
      "needs_background": "light"
     },
     "output_type": "display_data"
    }
   ],
   "source": [
    "ultra_data['duration'].hist(bins = [250,275,300,325,350,375,400,425,450,475,500,525,550,575,600,625,650,675, 700], alpha = 0.5)"
   ]
  },
  {
   "cell_type": "code",
   "execution_count": 34,
   "metadata": {},
   "outputs": [
    {
     "data": {
      "text/plain": [
       "<matplotlib.axes._subplots.AxesSubplot at 0x124c86748>"
      ]
     },
     "execution_count": 34,
     "metadata": {},
     "output_type": "execute_result"
    },
    {
     "data": {
      "image/png": "[encoded data removed]",
      "text/plain": [
       "<Figure size 432x288 with 1 Axes>"
      ]
     },
     "metadata": {
      "needs_background": "light"
     },
     "output_type": "display_data"
    }
   ],
   "source": [
    "ultra_data['mb_use_real'].hist(bins = 50)"
   ]
  },
  {
   "cell_type": "code",
   "execution_count": 35,
   "metadata": {},
   "outputs": [
    {
     "data": {
      "text/plain": [
       "<matplotlib.axes._subplots.AxesSubplot at 0x124b866a0>"
      ]
     },
     "execution_count": 35,
     "metadata": {},
     "output_type": "execute_result"
    },
    {
     "data": {
      "image/png": "[encoded data removed]",
      "text/plain": [
       "<Figure size 432x288 with 1 Axes>"
      ]
     },
     "metadata": {
      "needs_background": "light"
     },
     "output_type": "display_data"
    }
   ],
   "source": [
    "ultra_data['mb_use_real'].hist(bins = [11000,12000,13000,14000,15000,16000,17000, 18000, 19000, 20000,21000,22000,23000,24000,25000], alpha = 0.5)\n",
    "\n"
   ]
  },
  {
   "cell_type": "code",
   "execution_count": 36,
   "metadata": {},
   "outputs": [
    {
     "data": {
      "text/plain": [
       "<matplotlib.axes._subplots.AxesSubplot at 0x124fa8c18>"
      ]
     },
     "execution_count": 36,
     "metadata": {},
     "output_type": "execute_result"
    },
    {
     "data": {
      "image/png": "[encoded data removed]",
      "text/plain": [
       "<Figure size 432x288 with 1 Axes>"
      ]
     },
     "metadata": {
      "needs_background": "light"
     },
     "output_type": "display_data"
    }
   ],
   "source": [
    "ultra_data['total_mes'].hist(bins = 50)"
   ]
  },
  {
   "cell_type": "code",
   "execution_count": 37,
   "metadata": {},
   "outputs": [
    {
     "data": {
      "text/plain": [
       "<matplotlib.axes._subplots.AxesSubplot at 0x1250e5588>"
      ]
     },
     "execution_count": 37,
     "metadata": {},
     "output_type": "execute_result"
    },
    {
     "data": {
      "image/png": "[encoded data removed]",
      "text/plain": [
       "<Figure size 432x288 with 1 Axes>"
      ]
     },
     "metadata": {
      "needs_background": "light"
     },
     "output_type": "display_data"
    }
   ],
   "source": [
    "ultra_data['total_mes'].hist(bins = [0,10,20,30,40,50,60,70,80,90], alpha = 0.5)"
   ]
  },
  {
   "cell_type": "code",
   "execution_count": 38,
   "metadata": {},
   "outputs": [
    {
     "data": {
      "text/plain": [
       "<matplotlib.axes._subplots.AxesSubplot at 0x1251cc198>"
      ]
     },
     "execution_count": 38,
     "metadata": {},
     "output_type": "execute_result"
    },
    {
     "data": {
      "image/png": "[encoded data removed]",
      "text/plain": [
       "<Figure size 432x288 with 1 Axes>"
      ]
     },
     "metadata": {
      "needs_background": "light"
     },
     "output_type": "display_data"
    }
   ],
   "source": [
    "ultra_data['total_income'].hist(bins = 50)"
   ]
  },
  {
   "cell_type": "code",
   "execution_count": 39,
   "metadata": {},
   "outputs": [
    {
     "data": {
      "text/plain": [
       "<matplotlib.axes._subplots.AxesSubplot at 0x1252ef9e8>"
      ]
     },
     "execution_count": 39,
     "metadata": {},
     "output_type": "execute_result"
    },
    {
     "data": {
      "image/png": "[encoded data removed]",
      "text/plain": [
       "<Figure size 432x288 with 1 Axes>"
      ]
     },
     "metadata": {
      "needs_background": "light"
     },
     "output_type": "display_data"
    }
   ],
   "source": [
    "ultra_data['total_income'].hist(bins = [500,750,1000,1250,1500,1750,2000,2250,2500,2750], alpha = 0.5)"
   ]
  },
  {
   "cell_type": "code",
   "execution_count": 40,
   "metadata": {},
   "outputs": [
    {
     "name": "stdout",
     "output_type": "stream",
     "text": [
      "Дисперсия для duration =  103593.44575124995\n",
      "Дисперсия для mb_use_real =  73310268.91223747\n",
      "Дисперсия для total_mes =  2202.307156798644\n",
      "Дисперсия для total_income =  6231.8554235230795\n",
      "\n",
      "Стандартное отклонение для duration =  321.85935709755273\n",
      "Стандартное отклонение для mb_use_real =  8562.1416078127\n",
      "Стандартное отклонение для total_mes =  46.92874552764695\n",
      "Стандартное отклонение для total_income =  78.94210171716408\n",
      "\n"
     ]
    }
   ],
   "source": [
    "print('Дисперсия для duration = ', np.var(ultra_data['duration']))\n",
    "print('Дисперсия для mb_use_real = ', np.var(ultra_data['mb_use_real']))\n",
    "print('Дисперсия для total_mes = ', np.var(ultra_data['total_mes']))\n",
    "print('Дисперсия для total_income = ', np.var(ultra_data['total_income']))\n",
    "\n",
    "print()\n",
    "\n",
    "print('Стандартное отклонение для duration = ', np.std(ultra_data['duration']))\n",
    "print('Стандартное отклонение для mb_use_real = ', np.std(ultra_data['mb_use_real']))\n",
    "print('Стандартное отклонение для total_mes = ', np.std(ultra_data['total_mes']))\n",
    "print('Стандартное отклонение для total_income = ', np.std(ultra_data['total_income']))\n",
    "\n",
    "print()"
   ]
  },
  {
   "cell_type": "markdown",
   "metadata": {},
   "source": [
    "На основании построенных графиков можно сделать выводы, что для пользователей тарифа  \"Ultra\" характерно потребление следующего количества услуг:\n",
    "    1. Минут разговора от 260 до 750. Чаще всего пользователям требуется 375-400 минут, 450-475 минут и 525-550 минут. Дисперсия составляет 110183.6. Стандартное отклонение - 331.9\n",
    "    2. Трафика - от 11 до 25 Гб. Чаще всего пользователям требуется 21-22 Гб, 19-20 Гб и 16-17 Гб. Дисперсия составляет 73369853.5. Стандартное отклонение - 8565.6\n",
    "    3. СМС сообщений - от 25 до 75. Чаще всего пользователям требуется  от 20 до 30 СМС. Дисперсия составляет 2036.1. Стандартное отклонение - 45.12\n",
    "    4. Средняя прибыль от тарифа Ultra - xаще всего пользователи приносят компании от 1750 до 2000 рублей. Дисперсия составляет 6231.85. Стандартное отклонение - 78.94"
   ]
  },
  {
   "cell_type": "markdown",
   "metadata": {},
   "source": [
    "# Шаг 4. Проверка гипотез.\n",
    "\n",
    "1. Гипотеза №1: Средняя выручка пользователей тарифов «Ультра» и «Смарт» одинаковы."
   ]
  },
  {
   "cell_type": "code",
   "execution_count": 41,
   "metadata": {},
   "outputs": [
    {
     "name": "stdout",
     "output_type": "stream",
     "text": [
      "Отвергаем нулевую гипотезу\n"
     ]
    }
   ],
   "source": [
    "from scipy import stats as st\n",
    "\n",
    "alpha = 0.05\n",
    "\n",
    "results = st.ttest_ind(smart_data['total_income'], ultra_data['total_income'], equal_var = False)\n",
    "\n",
    "if (results.pvalue < alpha):\n",
    "    print(\"Отвергаем нулевую гипотезу\")\n",
    "else:\n",
    "    print(\"Не получилось отвергнуть нулевую гипотезу\")"
   ]
  },
  {
   "cell_type": "code",
   "execution_count": 42,
   "metadata": {},
   "outputs": [
    {
     "data": {
      "image/png": "[encoded data removed]",
      "text/plain": [
       "<Figure size 720x360 with 2 Axes>"
      ]
     },
     "metadata": {
      "needs_background": "light"
     },
     "output_type": "display_data"
    }
   ],
   "source": [
    "plt.subplots(figsize = (10, 5))\n",
    "plot = smart_data.boxplot('total_income', ax = plt.subplot(1, 2, 1))\n",
    "plot = ultra_data.boxplot('total_income', ax = plt.subplot(1, 2, 2))\n",
    "lim = plot.set_ylim(400, 4000)"
   ]
  },
  {
   "cell_type": "markdown",
   "metadata": {},
   "source": [
    "Отвергнув нулевую гипотезу, мы можем сделать вывод, что средняя выручка по разным тарифам различается.\n",
    "\n",
    "На данном этапе мы использовали st.ttest_ind, так как мы исследуем гипотезу о равенстве средних двух генеральных совокупностей."
   ]
  },
  {
   "cell_type": "code",
   "execution_count": 43,
   "metadata": {},
   "outputs": [
    {
     "name": "stdout",
     "output_type": "stream",
     "text": [
      "Средняя величина дохода для тарифа \"Smart\" =  1539.4843161856963\n",
      "Средняя величина дохода для тарифа \"Ultra\" =  1968.1263858093128\n"
     ]
    }
   ],
   "source": [
    "print('Средняя величина дохода для тарифа \"Smart\" = ', smart_data['total_income'].mean())\n",
    "print('Средняя величина дохода для тарифа \"Ultra\" = ', ultra_data['total_income'].mean())"
   ]
  },
  {
   "cell_type": "markdown",
   "metadata": {},
   "source": [
    "###### Таким образом, мы можем сделать вывод, что для оператора выгоднее продвигать тариф Ultra."
   ]
  },
  {
   "cell_type": "markdown",
   "metadata": {},
   "source": [
    "2. Гипотеза №2: Средняя выручка пользователей из Москвы отличается от выручки пользователей из других регионов.\n",
    "\n",
    "Формируем нулевую гипотезу: Средняя выручка пользователей из Москвы равна выручке пользователей из других регионов."
   ]
  },
  {
   "cell_type": "code",
   "execution_count": 44,
   "metadata": {},
   "outputs": [
    {
     "name": "stdout",
     "output_type": "stream",
     "text": [
      "Не получилось отвергнуть нулевую гипотезу\n"
     ]
    }
   ],
   "source": [
    "#Проверяем гипотезу для тарифа Ultra и разных регионов\n",
    "\n",
    "from scipy import stats as st\n",
    "\n",
    "ultra_income_m = ultra_data.query('city == \"Москва\"')\n",
    "ultra_income_r = ultra_data.query('city != \"Москва\"')\n",
    "\n",
    "alpha = 0.05\n",
    "\n",
    "results = st.ttest_ind(ultra_income_m['total_income'], ultra_income_r['total_income'], equal_var = False)\n",
    "\n",
    "if (results.pvalue < alpha):\n",
    "    print(\"Отвергаем нулевую гипотезу\")\n",
    "else:\n",
    "    print(\"Не получилось отвергнуть нулевую гипотезу\")"
   ]
  },
  {
   "cell_type": "code",
   "execution_count": 45,
   "metadata": {},
   "outputs": [
    {
     "data": {
      "image/png": "[encoded data removed]",
      "text/plain": [
       "<Figure size 720x360 with 2 Axes>"
      ]
     },
     "metadata": {
      "needs_background": "light"
     },
     "output_type": "display_data"
    }
   ],
   "source": [
    "plt.subplots(figsize = (10, 5))\n",
    "plot = ultra_income_m.boxplot('total_income', ax = plt.subplot(1, 2, 1))\n",
    "lim = plot.set_ylim(1000, 2000)\n",
    "plot = ultra_income_r.boxplot('total_income', ax = plt.subplot(1, 2, 2))\n",
    "lim = plot.set_ylim(1000, 2000)"
   ]
  },
  {
   "cell_type": "code",
   "execution_count": 46,
   "metadata": {},
   "outputs": [
    {
     "name": "stdout",
     "output_type": "stream",
     "text": [
      "Не получилось отвергнуть нулевую гипотезу\n"
     ]
    }
   ],
   "source": [
    "#Проверяем гипотезу для тарифа Smart и разных регионов\n",
    "\n",
    "from scipy import stats as st\n",
    "\n",
    "smart_income_m = smart_data.query('city == \"Москва\"')\n",
    "smart_income_r = smart_data.query('city != \"Москва\"')\n",
    "\n",
    "alpha = 0.05\n",
    "\n",
    "results = st.ttest_ind(smart_income_m['total_income'], smart_income_r['total_income'])\n",
    "\n",
    "if (results.pvalue < alpha):\n",
    "    print(\"Отвергаем нулевую гипотезу\")\n",
    "else:\n",
    "    print(\"Не получилось отвергнуть нулевую гипотезу\")"
   ]
  },
  {
   "cell_type": "code",
   "execution_count": 47,
   "metadata": {},
   "outputs": [
    {
     "data": {
      "image/png": "[encoded data removed]",
      "text/plain": [
       "<Figure size 720x360 with 2 Axes>"
      ]
     },
     "metadata": {
      "needs_background": "light"
     },
     "output_type": "display_data"
    }
   ],
   "source": [
    "plt.subplots(figsize = (10, 5))\n",
    "plot = smart_income_m.boxplot('total_income', ax = plt.subplot(1, 2, 1))\n",
    "lim = plot.set_ylim(500, 2000)\n",
    "plot = smart_income_r.boxplot('total_income', ax = plt.subplot(1, 2, 2))\n",
    "lim = plot.set_ylim(500, 2000)"
   ]
  },
  {
   "cell_type": "code",
   "execution_count": 48,
   "metadata": {},
   "outputs": [
    {
     "name": "stdout",
     "output_type": "stream",
     "text": [
      "Не получилось отвергнуть нулевую гипотезу\n"
     ]
    }
   ],
   "source": [
    "#Проверяем гипотезу для разных регионов\n",
    "\n",
    "from scipy import stats as st\n",
    "\n",
    "income_m = new_report.query('city == \"Москва\"')\n",
    "income_r = new_report.query('city != \"Москва\"')\n",
    "\n",
    "alpha = 0.05\n",
    "\n",
    "results = st.ttest_ind(income_m['total_income'], income_r['total_income'])\n",
    "\n",
    "if (results.pvalue < alpha):\n",
    "    print(\"Отвергаем нулевую гипотезу\")\n",
    "else:\n",
    "    print(\"Не получилось отвергнуть нулевую гипотезу\")"
   ]
  },
  {
   "cell_type": "code",
   "execution_count": 49,
   "metadata": {},
   "outputs": [
    {
     "data": {
      "image/png": "[encoded data removed]",
      "text/plain": [
       "<Figure size 720x360 with 2 Axes>"
      ]
     },
     "metadata": {
      "needs_background": "light"
     },
     "output_type": "display_data"
    }
   ],
   "source": [
    "plt.subplots(figsize = (10, 5))\n",
    "plot = income_m.boxplot('total_income', ax = plt.subplot(1, 2, 1))\n",
    "lim = plot.set_ylim(500, 2000)\n",
    "plot = income_r.boxplot('total_income', ax = plt.subplot(1, 2, 2))\n",
    "lim = plot.set_ylim(500, 2000)"
   ]
  },
  {
   "cell_type": "markdown",
   "metadata": {},
   "source": [
    "На основании проведенных исследований гипотез мы можем делать вывод, что средняя выручка пользователей из Москвы равна выручке пользователей из других регионов вне зависимости от тарифов.\n",
    "\n",
    "Мы используем метод st.ttest_ind, так как мы исследуем гипотезу о равенстве средних двух генеральных совокупностей.\n",
    "\n",
    "# Вывод:\n",
    "    Таким образом, мы можем сделать вывод, что для оператора регион продвижения не играет важной роли, так как итоговая прибыль не зависит от региона  клиента."
   ]
  }
 ],
 "metadata": {
  "kernelspec": {
   "display_name": "Python 3",
   "language": "python",
   "name": "python3"
  },
  "language_info": {
   "codemirror_mode": {
    "name": "ipython",
    "version": 3
   },
   "file_extension": ".py",
   "mimetype": "text/x-python",
   "name": "python",
   "nbconvert_exporter": "python",
   "pygments_lexer": "ipython3",
   "version": "3.7.3"
  }
 },
 "nbformat": 4,
 "nbformat_minor": 2
}
